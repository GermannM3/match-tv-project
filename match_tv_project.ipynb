{
  "cells": [
    {
      "cell_type": "markdown",
      "metadata": {
        "id": "intro"
      },
      "source": [
        "# Match TV Project - Тестирование\n",
        "\n",
        "## Подготовка окружения"
      ]
    },
    {
      "cell_type": "code",
      "metadata": {
        "id": "setup"
      },
      "source": [
        "# Клонируем репозиторий\n",
        "!git clone https://github.com/GermannM3/match-tv-project.git\n",
        "%cd match-tv-project\n",
        "\n",
        "# Установка системных зависимостей\n",
        "!apt-get update\n",
        "!apt-get install -y ffmpeg\n",
        "\n",
        "# Установка Python-зависимостей\n",
        "!pip install -r requirements.txt"
      ]
    },
    {
      "cell_type": "code",
      "metadata": {
        "id": "check_gpu"
      },
      "source": [
        "# Проверка GPU\n",
        "!nvidia-smi\n",
        "import torch\n",
        "print(f\"CUDA доступен: {torch.cuda.is_available()}\")\n",
        "if torch.cuda.is_available():\n",
        "    print(f\"GPU: {torch.cuda.get_device_name(0)}\")"
      ]
    },
    {
      "cell_type": "code",
      "metadata": {
        "id": "run_tests"
      },
      "source": [
        "# Запуск тестов\n",
        "!python -m unittest discover tests -v"
      ]
    },
    {
      "cell_type": "code",
      "metadata": {
        "id": "check_results"
      },
      "source": [
        "# Проверка результатов\n",
        "from pathlib import Path\n",
        "\n",
        "def check_files():\n",
        "    required_files = {\n",
        "        'source/office_intro.mp4': 'Интро Office',\n",
        "        'temp/office_upscaled.mp4': 'Апскейл видео',\n",
        "        'temp/office_faces_swapped.mp4': 'Замена лиц',\n",
        "        'output/final_output.mp4': 'Финальное видео'\n",
        "    }\n",
        "    \n",
        "    for file_path, description in required_files.items():\n",
        "        if Path(file_path).exists():\n",
        "            print(f\"✅ {description} создан успешно\")\n",
        "        else:\n",
        "            print(f\"❌ {description} отсутствует\")\n",
        "\n",
        "check_files()"
      ]
    }
  ],
  "metadata": {
    "accelerator": "GPU",
    "colab": {
      "name": "match_tv_project.ipynb",
      "private_outputs": true
    },
    "kernelspec": {
      "display_name": "Python 3",
      "name": "python3"
    }
  }
}
