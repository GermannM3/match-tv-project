 {
  "cells": [
    {
      "cell_type": "markdown",
      "metadata": {
        "id": "intro"
      },
      "source": [
        "# Match TV Project\n",
        "\n",
        "## Проект по обработке видео для Match TV\n",
        "\n",
        "Этот ноутбук позволяет запустить проект в облаке с использованием GPU Google Colab.\n",
        "\n",
        "### Подготовка окружения"
      ]
    },
    {
      "cell_type": "code",
      "metadata": {
        "id": "check_gpu"
      },
      "source": [
        "# Проверка доступности GPU\n",
        "!nvidia-smi\n",
        "\n",
        "import torch\n",
        "print(f\"CUDA доступен: {torch.cuda.is_available()}\")\n",
        "if torch.cuda.is_available():\n",
        "    print(f\"Используется GPU: {torch.cuda.get_device_name(0)}\")"
      ]
    },
    {
      "cell_type": "code",
      "metadata": {
        "id": "clone_repo"
      },
      "source": [
        "# Клонирование репозитория\n",
        "!git clone https://github.com/USERNAME/match-tv-project.git\n",
        "%cd match-tv-project"
      ]
    },
    {
      "cell_type": "code",
      "metadata": {
        "id": "install_dependencies"
      },
      "source": [
        "# Установка зависимостей\n",
        "!apt-get update\n",
        "!apt-get install -y ffmpeg\n",
        "!pip install -r requirements.txt"
      ]
    },
    {
      "cell_type": "code",
      "metadata": {
        "id": "run_tests"
      },
      "source": [
        "# Запуск тестов\n",
        "!python -m unittest test_project.py"
      ]
    },
    {
      "cell_type": "code",
      "metadata": {
        "id": "run_project"
      },
      "source": [
        "# Запуск проекта\n",
        "!python main.py"
      ]
    },
    {
      "cell_type": "markdown",
      "metadata": {
        "id": "results"
      },
      "source": [
        "### Результаты\n",
        "\n",
        "После выполнения всех ячеек, обработанные видео будут доступны в директории `output/`.\n",
        "Вы можете скачать их, используя левую панель файлов Google Colab."
      ]
    }
  ],
  "metadata": {
    "accelerator": "GPU",
    "colab": {
      "name": "match_tv_project.ipynb",
      "provenance": [],
      "collapsed_sections": []
    },
    "kernelspec": {
      "display_name": "Python 3",
      "name": "python3"
    },
    "language_info": {
      "name": "python",
      "version": "3.8"
    }
  },
  "nbformat": 4,
  "nbformat_minor": 0
}
