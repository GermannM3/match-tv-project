// ... existing code ...

in[1]: # Установка зависимостей
!rm -rf match-tv-project
!git clone https://github.com/GermannM3/match-tv-project.git
%cd match-tv-project
!apt-get update && apt-get install -y ffmpeg
!pip install -r requirements.txt
# Удалим эти строки, так как они не нужны для проекта Match TV
# !pip install stable-diffusion
# !pip install torch-audiogen

in[2]: # Загрузка всех необходимых материалов
# Добавим обработку ошибок
try:
    !python download_faces.py
    !python download_assets.py
    !python download_audio.py
except Exception as e:
    print(f"Ошибка при загрузке материалов: {e}")

in[3]: # Обработка видео
from sports_swap import process_video

# Добавим проверку существования файлов
import os

def check_files(paths):
    for path in paths:
        if not os.path.exists(path):
            raise FileNotFoundError(f"Файл не найден: {path}")

try:
    input_video = "source/office_intro.mp4"
    face_files = {
        'cherdantsev': 'faces/cherdantsev.jpg',
        'guberniev': 'faces/guberniev.jpg'
    }
    
    # Проверка файлов перед обработкой
    check_files([input_video] + list(face_files.values()))
    
    process_video(
        input_path=input_video,
        output_path="output/final_video.mp4",
        face_mapping=face_files
    )
except Exception as e:
    print(f"Ошибка при обработке видео: {e}")

// ... existing code ...
