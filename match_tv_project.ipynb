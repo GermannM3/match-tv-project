{
 "cells": [
  {
   "cell_type": "markdown",
   "metadata": {},
   "source": [
    "# Match TV Project\n",
    "Этот проект предназначен для обработки видео и аудио материалов с использованием комментаторов Match TV.\n",
    "Эта версия адаптирована для Google Colab."
   ]
  },
  {
   "cell_type": "code",
   "execution_count": null,
   "metadata": {},
   "outputs": [],
   "source": [
    "!rm -rf match-tv-project\n",
    "!git clone https://github.com/GermannM3/match-tv-project.git\n",
    "%cd match-tv-project\n",
    "!apt-get update && apt-get install -y ffmpeg\n",
    "!pip install -r requirements.txt"
   ]
  },
  {
   "cell_type": "code",
   "execution_count": null,
   "metadata": {},
   "outputs": [],
   "source": [
    "# Загрузка всех необходимых материалов\n",
    "import os\n",
    "import logging\n",
    "\n",
    "logging.basicConfig(level=logging.INFO)\n",
    "logger = logging.getLogger(__name__)\n",
    "\n",
    "def check_files(paths):\n",
    "    for path in paths:\n",
    "        if not os.path.exists(path):\n",
    "            raise FileNotFoundError(f\"Файл не найден: {path}\")\n",
    "\n",
    "try:\n",
    "    !python download_faces.py\n",
    "    !python download_assets.py\n",
    "    !python download_audio.py\n",
    "\n",
    "    # Проверка наличия файлов после загрузки\n",
    "    check_files([\n",
    "        \"source/office_intro.mp4\",\n",
    "        \"faces/cherdantsev.jpg\",\n",
    "        \"faces/guberniev.jpg\",\n",
    "        \"audio/voices/cherdantsev.mp3\",\n",
    "        \"audio/music/sports_theme.mp3\"\n",
    "    ])\n",
    "    logger.info(\"Все файлы успешно загружены.\")\n",
    "\n",
    "except FileNotFoundError as e:\n",
    "    logger.error(str(e))\n",
    "    raise\n",
    "except Exception as e:\n",
    "    logger.error(f\"Ошибка при загрузке материалов: {e}\")\n",
    "    raise"
   ]
  },
  {
   "cell_type": "code",
   "execution_count": null,
   "metadata": {},
   "outputs": [],
   "source": [
    "# Обработка видео\n",
    "from sports_swap import process_video\n",
    "import os\n",
    "import logging\n",
    "\n",
    "logging.basicConfig(level=logging.INFO)\n",
    "logger = logging.getLogger(__name__)\n",
    "\n",
    "\n",
    "def check_files(paths):\n",
    "    for path in paths:\n",
    "        if not os.path.exists(path):\n",
    "            raise FileNotFoundError(f\"Файл не найден: {path}\")\n",
    "\n",
    "\n",
    "try:\n",
    "    input_video = \"source/office_intro.mp4\"\n",
    "    face_files = {\n",
    "        'cherdantsev': 'faces/cherdantsev.jpg',\n",
    "        'guberniev': 'faces/guberniev.jpg'\n",
    "    }\n",
    "\n",
    "    # Проверка файлов перед обработкой\n",
    "    check_files([input_video] + list(face_files.values()))\n",
    "\n",
    "    process_video(\n",
    "        input_path=input_video,\n",
    "        output_path=\"output/final_video.mp4\",\n",
    "        face_mapping=face_files\n",
    "    )\n",
    "    logger.info(\"Видео успешно обработано.\")\n",
    "\n",
    "except FileNotFoundError as e:\n",
    "    logger.error(str(e))\n",
    "    raise\n",
    "except Exception as e:\n",
    "    logger.error(f\"Ошибка при обработке видео: {e}\")\n",
    "    raise"
   ]
  }
 ],
 "metadata": {
  "colab": {
   "name": "match_tv_project.ipynb",
   "provenance": []
  },
  "kernelspec": {
   "display_name": "Python 3",
   "name": "python3"
  },
  "language_info": {
   "name": "python"
  }
 },
 "nbformat": 4,
 "nbformat_minor": 0
}
