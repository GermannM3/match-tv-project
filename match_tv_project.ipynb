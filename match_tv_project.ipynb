 {
 "cells": [
  {
   "cell_type": "markdown",
   "metadata": {},
   "source": [
    "# Match TV Project\n",
    "Этот проект предназначен для обработки видео и аудио материалов с использованием комментаторов Match TV."
   ]
  },
  {
   "cell_type": "code",
   "execution_count": null,
   "metadata": {},
   "outputs": [],
   "source": [
    "!rm -rf match-tv-project\n",
    "!git clone https://github.com/GermannM3/match-tv-project.git\n",
    "%cd match-tv-project\n",
    "!apt-get update && apt-get install -y ffmpeg\n",
    "!pip install -r requirements.txt\n",
    "!pip install stable-diffusion\n",
    "!pip install torch-audiogen"
   ]
  },
  {
   "cell_type": "code",
   "execution_count": null,
   "metadata": {},
   "outputs": [],
   "source": [
    "# Загрузка всех необходимых материалов\n",
    "!python download_faces.py\n",
    "!python download_assets.py\n",
    "!python download_audio.py"
   ]
  },
  {
   "cell_type": "code",
   "execution_count": null,
   "metadata": {},
   "outputs": [],
   "source": [
    "# Обработка видео\n",
    "from sports_swap import process_video\n",
    "process_video(\n",
    "    input_path=\"source/office_intro.mp4\",\n",
    "    output_path=\"output/final_video.mp4\",\n",
    "    face_mapping={\n",
    "        'cherdantsev': 'faces/cherdantsev.jpg',\n",
    "        'guberniev': 'faces/guberniev.jpg'\n",
    "    }\n",
    ")"
   ]
  }
 ],
 "metadata": {
  "colab": {
   "name": "match_tv_project.ipynb",
   "provenance": []
  },
  "kernelspec": {
   "display_name": "Python 3",
   "name": "python3"
  },
  "language_info": {
   "name": "python"
  }
 },
 "nbformat": 4,
 "nbformat_minor": 0
}
