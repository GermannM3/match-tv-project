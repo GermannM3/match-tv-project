 {
  "cells": [
    {
      "cell_type": "markdown",
      "metadata": {
        "id": "intro"
      },
      "source": [
        "# Match TV Project - Тестирование\n",
        "\n",
        "## Подготовка окружения и загрузка материалов"
      ]
    },
    {
      "cell_type": "code",
      "execution_count": null,
      "metadata": {
        "id": "setup"
      },
      "outputs": [],
      "source": [
        "# Клонируем репозиторий\n",
        "!git clone https://github.com/GermannM3/match-tv-project.git\n",
        "%cd match-tv-project\n",
        "\n",
        "# Установка системных зависимостей\n",
        "!apt-get update\n",
        "!apt-get install -y ffmpeg\n",
        "\n",
        "# Установка Python-зависимостей\n",
        "!pip install -r requirements.txt\n",
        "\n",
        "# Перезагрузка среды после установки\n",
        "import IPython\n",
        "IPython.Application.instance().kernel.do_shutdown(True)"
      ]
    },
    {
      "cell_type": "code",
      "execution_count": null,
      "metadata": {
        "id": "check_versions"
      },
      "outputs": [],
      "source": [
        "# Проверка версий\n",
        "import numpy as np\n",
        "import torch\n",
        "import requests\n",
        "\n",
        "print(f\"NumPy version: {np.__version__}\")\n",
        "print(f\"PyTorch version: {torch.__version__}\")\n",
        "print(f\"Requests version: {requests.__version__}\")"
      ]
    },
    {
      "cell_type": "code",
      "execution_count": null,
      "metadata": {
        "id": "check_gpu"
      },
      "outputs": [],
      "source": [
        "# Проверка GPU\n",
        "!nvidia-smi\n",
        "print(f\"\\nCUDA доступен: {torch.cuda.is_available()}\")\n",
        "if torch.cuda.is_available():\n",
        "    print(f\"GPU: {torch.cuda.get_device_name(0)}\")"
      ]
    },
    {
      "cell_type": "code",
      "execution_count": null,
      "metadata": {
        "id": "download_materials"
      },
      "outputs": [],
      "source": [
        "# Загрузка всех необходимых материалов\n",
        "print(\"Загрузка фотографий комментаторов...\")\n",
        "!python download_faces.py\n",
        "\n",
        "print(\"\\nЗагрузка видео материалов...\")\n",
        "!python download_assets.py\n",
        "\n",
        "print(\"\\nЗагрузка аудио материалов...\")\n",
        "!python download_audio.py"
      ]
    },
    {
      "cell_type": "code",
      "execution_count": null,
      "metadata": {
        "id": "check_materials"
      },
      "outputs": [],
      "source": [
        "# Проверка загруженных материалов\n",
        "from pathlib import Path\n",
        "\n",
        "def check_materials():\n",
        "    required_files = {\n",
        "        # Фотографии\n",
        "        'faces/cherdantsev.jpg': 'Фото Черданцева',\n",
        "        'faces/guberniev.jpg': 'Фото Губерниева',\n",
        "        'faces/genich.jpg': 'Фото Генича',\n",
        "        'faces/orzul.jpg': 'Фото Орзул',\n",
        "        'faces/naguchev.jpg': 'Фото Нагучева',\n",
        "        \n",
        "        # Видео\n",
        "        'source/office_intro.mp4': 'Интро Office',\n",
        "        \n",
        "        # Аудио\n",
        "        'audio/voices/cherdantsev.mp3': 'Голос Черданцева',\n",
        "        'audio/voices/guberniev.mp3': 'Голос Губерниева',\n",
        "        'audio/music/sports_theme.mp3': 'Спортивная музыка',\n",
        "        'audio/music/match_tv_intro.mp3': 'Интро Match TV'\n",
        "    }\n",
        "    \n",
        "    for file_path, description in required_files.items():\n",
        "        if Path(file_path).exists():\n",
        "            print(f\"✅ {description} загружен успешно\")\n",
        "        else:\n",
        "            print(f\"❌ {description} отсутствует\")\n",
        "\n",
        "check_materials()"
      ]
    },
    {
      "cell_type": "code",
      "execution_count": null,
      "metadata": {
        "id": "run_tests"
      },
      "outputs": [],
      "source": [
        "# Запуск тестов с обработкой ошибок\n",
        "import traceback\n",
        "\n",
        "try:\n",
        "    !python -m unittest discover tests -v\n",
        "except Exception as e:\n",
        "    print(f\"Ошибка при выполнении тестов: {str(e)}\")\n",
        "    print(\"\\nПолный стек ошибки:\")\n",
        "    print(traceback.format_exc())"
      ]
    },
    {
      "cell_type": "code",
      "execution_count": null,
      "metadata": {
        "id": "check_results"
      },
      "outputs": [],
      "source": [
        "# Проверка результатов\n",
        "def check_results():\n",
        "    result_files = {\n",
        "        'temp/office_upscaled.mp4': 'Апскейл видео',\n",
        "        'temp/office_faces_swapped.mp4': 'Замена лиц',\n",
        "        'output/final_output.mp4': 'Финальное видео с музыкой'\n",
        "    }\n",
        "    \n",
        "    for file_path, description in result_files.items():\n",
        "        if Path(file_path).exists():\n",
        "            print(f\"✅ {description} создан успешно\")\n",
        "        else:\n",
        "            print(f\"❌ {description} отсутствует\")\n",
        "\n",
        "check_results()"
      ]
    }
  ],
  "metadata": {
    "accelerator": "GPU",
    "colab": {
      "name": "match_tv_project.ipynb",
      "private_outputs": true
    },
    "kernelspec": {
      "display_name": "Python 3",
      "name": "python3"
    },
    "language_info": {
      "name": "python",
      "version": "3.8"
    }
  },
  "nbformat": 4,
  "nbformat_minor": 0
}
